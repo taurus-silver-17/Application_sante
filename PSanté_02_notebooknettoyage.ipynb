{
 "cells": [
  {
   "cell_type": "markdown",
   "metadata": {},
   "source": [
    "# README"
   ]
  },
  {
   "cell_type": "markdown",
   "metadata": {},
   "source": [
    "Il y a 3 notebooks : \n",
    "- PSanté_01_notebooknettoyage : ce qui touche au preprocessing \n",
    "- PSanté_02_notebooknettoyage : ce qui touche à la modélisation \n",
    "- Analyse_anomalie : qui est un copié-collé de PSanté_02_notebooknettoyage, avec à la fin toutes les tests que j'ai réalisé pour essayer de comprendre le pb. J'ai éclaté certaines de mes fonctions pour qu'on puisse plus facilement accéder aux variables. "
   ]
  },
  {
   "cell_type": "code",
   "execution_count": 1,
   "metadata": {},
   "outputs": [],
   "source": [
    "import pandas as pd\n",
    "import numpy as np \n",
    "import matplotlib.pyplot as plt\n",
    "from numpy import percentile\n",
    "from sklearn.impute import KNNImputer\n",
    "from sklearn.model_selection import train_test_split\n",
    "from sklearn.preprocessing import StandardScaler\n",
    "from scipy.stats import shapiro\n",
    "import pickle \n",
    "from sklearn.neighbors import KDTree\n",
    "from sklearn.neighbors import KNeighborsRegressor\n",
    "from sklearn.model_selection import cross_val_score\n",
    "import seaborn as sns\n",
    "from scipy import stats\n",
    "from scipy.stats import shapiro\n",
    "from scipy.stats import f_oneway\n",
    "import sklearn.metrics as metrics\n",
    "import math\n",
    "import time\n",
    "start_time = time.time()"
   ]
  },
  {
   "cell_type": "code",
   "execution_count": 2,
   "metadata": {},
   "outputs": [],
   "source": [
    "outliers=pd.read_csv(\"Data/export_outliers.csv\",low_memory=False)\n",
    "train=pd.read_csv(\"Data/train_export.csv\")\n",
    "test=(\n",
    "    pd.read_csv(\"Data/test_export.csv\")\n",
    "    .drop(columns=['Numb_nan_line'],axis=1))"
   ]
  },
  {
   "cell_type": "code",
   "execution_count": 3,
   "metadata": {},
   "outputs": [
    {
     "data": {
      "text/plain": [
       "(101579, 15)"
      ]
     },
     "execution_count": 3,
     "metadata": {},
     "output_type": "execute_result"
    }
   ],
   "source": [
    "test.shape"
   ]
  },
  {
   "cell_type": "markdown",
   "metadata": {},
   "source": [
    "# Verification imputer "
   ]
  },
  {
   "cell_type": "code",
   "execution_count": 4,
   "metadata": {},
   "outputs": [],
   "source": [
    "#We want to check the efficiency of our imputer, so we are going to transform some none Nan values by some Nan\n",
    "#And then compare \n",
    "test.loc[test['code']=='7616700102017','proteins_100g']=test.loc[test['code']=='7616700102017',\n",
    "                                                                 'proteins_100g']=np.nan\n",
    "test.loc[test['code']=='3267110007023','fiber_100g']=test.loc[test['code']=='3267110007023','fiber_100g']=np.nan\n",
    "test.loc[test['code']=='3266920007515','energy_100g']=test.loc[test['code']=='3266920007515','energy_100g']=np.nan\n",
    "test.loc[test['code']=='0400101046431','sugars_100g']=test.loc[test['code']=='0400101046431',\n",
    "                                                                 'sugars_100g']=np.nan"
   ]
  },
  {
   "cell_type": "code",
   "execution_count": 5,
   "metadata": {},
   "outputs": [
    {
     "data": {
      "text/html": [
       "<div>\n",
       "<style scoped>\n",
       "    .dataframe tbody tr th:only-of-type {\n",
       "        vertical-align: middle;\n",
       "    }\n",
       "\n",
       "    .dataframe tbody tr th {\n",
       "        vertical-align: top;\n",
       "    }\n",
       "\n",
       "    .dataframe thead th {\n",
       "        text-align: right;\n",
       "    }\n",
       "</style>\n",
       "<table border=\"1\" class=\"dataframe\">\n",
       "  <thead>\n",
       "    <tr style=\"text-align: right;\">\n",
       "      <th></th>\n",
       "      <th>code</th>\n",
       "      <th>product_name</th>\n",
       "      <th>generic_name</th>\n",
       "      <th>quantity</th>\n",
       "      <th>fiber_100g</th>\n",
       "      <th>proteins_100g</th>\n",
       "      <th>fruits-vegetables-nuts_100g</th>\n",
       "      <th>energy_100g</th>\n",
       "      <th>saturated-fat_100g</th>\n",
       "      <th>sugars_100g</th>\n",
       "      <th>salt_100g</th>\n",
       "      <th>nutrition-score-fr_100g</th>\n",
       "      <th>carbohydrates_100g</th>\n",
       "      <th>fat_100g</th>\n",
       "      <th>nutriscore_grade</th>\n",
       "    </tr>\n",
       "  </thead>\n",
       "  <tbody>\n",
       "    <tr>\n",
       "      <th>0</th>\n",
       "      <td>4250665323358</td>\n",
       "      <td>Magnesium-Citrat</td>\n",
       "      <td>NaN</td>\n",
       "      <td>℮ 250 g</td>\n",
       "      <td>0.0</td>\n",
       "      <td>0.00</td>\n",
       "      <td>NaN</td>\n",
       "      <td>1139.0</td>\n",
       "      <td>0.00</td>\n",
       "      <td>1.50</td>\n",
       "      <td>0.03000</td>\n",
       "      <td>3.0</td>\n",
       "      <td>4.20</td>\n",
       "      <td>0.00</td>\n",
       "      <td>c</td>\n",
       "    </tr>\n",
       "    <tr>\n",
       "      <th>1</th>\n",
       "      <td>3268350120688</td>\n",
       "      <td>Biscottes à la farine complète et graines de lin</td>\n",
       "      <td>Biscottes à la farine complète et graines de lin</td>\n",
       "      <td>270 g</td>\n",
       "      <td>12.4</td>\n",
       "      <td>13.40</td>\n",
       "      <td>NaN</td>\n",
       "      <td>1622.0</td>\n",
       "      <td>1.20</td>\n",
       "      <td>0.30</td>\n",
       "      <td>1.40000</td>\n",
       "      <td>6.0</td>\n",
       "      <td>72.00</td>\n",
       "      <td>7.90</td>\n",
       "      <td>c</td>\n",
       "    </tr>\n",
       "    <tr>\n",
       "      <th>2</th>\n",
       "      <td>4335896750255</td>\n",
       "      <td>Bio Tofu Hack</td>\n",
       "      <td>NaN</td>\n",
       "      <td>200 g</td>\n",
       "      <td>0.5</td>\n",
       "      <td>21.00</td>\n",
       "      <td>NaN</td>\n",
       "      <td>1120.0</td>\n",
       "      <td>2.90</td>\n",
       "      <td>0.80</td>\n",
       "      <td>0.93000</td>\n",
       "      <td>4.0</td>\n",
       "      <td>5.20</td>\n",
       "      <td>18.00</td>\n",
       "      <td>c</td>\n",
       "    </tr>\n",
       "    <tr>\n",
       "      <th>3</th>\n",
       "      <td>8801005123495</td>\n",
       "      <td>Crispy seaweed snack</td>\n",
       "      <td>NaN</td>\n",
       "      <td>NaN</td>\n",
       "      <td>NaN</td>\n",
       "      <td>50.00</td>\n",
       "      <td>NaN</td>\n",
       "      <td>1799.0</td>\n",
       "      <td>0.00</td>\n",
       "      <td>3.00</td>\n",
       "      <td>2.00000</td>\n",
       "      <td>13.0</td>\n",
       "      <td>50.00</td>\n",
       "      <td>0.00</td>\n",
       "      <td>d</td>\n",
       "    </tr>\n",
       "    <tr>\n",
       "      <th>4</th>\n",
       "      <td>0213400023290</td>\n",
       "      <td>Filet de poulet</td>\n",
       "      <td>NaN</td>\n",
       "      <td>NaN</td>\n",
       "      <td>NaN</td>\n",
       "      <td>23.00</td>\n",
       "      <td>NaN</td>\n",
       "      <td>435.0</td>\n",
       "      <td>0.40</td>\n",
       "      <td>0.00</td>\n",
       "      <td>0.11000</td>\n",
       "      <td>-4.0</td>\n",
       "      <td>0.00</td>\n",
       "      <td>1.30</td>\n",
       "      <td>a</td>\n",
       "    </tr>\n",
       "    <tr>\n",
       "      <th>5</th>\n",
       "      <td>0725439980890</td>\n",
       "      <td>Hummus</td>\n",
       "      <td>NaN</td>\n",
       "      <td>NaN</td>\n",
       "      <td>3.6</td>\n",
       "      <td>7.14</td>\n",
       "      <td>NaN</td>\n",
       "      <td>598.0</td>\n",
       "      <td>0.00</td>\n",
       "      <td>3.57</td>\n",
       "      <td>0.90678</td>\n",
       "      <td>-2.0</td>\n",
       "      <td>17.86</td>\n",
       "      <td>5.36</td>\n",
       "      <td>a</td>\n",
       "    </tr>\n",
       "    <tr>\n",
       "      <th>6</th>\n",
       "      <td>8437000639404</td>\n",
       "      <td>Claras de huevo</td>\n",
       "      <td>NaN</td>\n",
       "      <td>NaN</td>\n",
       "      <td>NaN</td>\n",
       "      <td>11.30</td>\n",
       "      <td>NaN</td>\n",
       "      <td>209.0</td>\n",
       "      <td>0.00</td>\n",
       "      <td>0.70</td>\n",
       "      <td>0.30000</td>\n",
       "      <td>-4.0</td>\n",
       "      <td>0.70</td>\n",
       "      <td>0.00</td>\n",
       "      <td>a</td>\n",
       "    </tr>\n",
       "    <tr>\n",
       "      <th>7</th>\n",
       "      <td>5708190025050</td>\n",
       "      <td>Rooibos Tea Elderberry Ginger Ginseng Agave</td>\n",
       "      <td>NaN</td>\n",
       "      <td>330 ml e</td>\n",
       "      <td>0.0</td>\n",
       "      <td>0.00</td>\n",
       "      <td>NaN</td>\n",
       "      <td>71.0</td>\n",
       "      <td>0.00</td>\n",
       "      <td>3.80</td>\n",
       "      <td>0.00300</td>\n",
       "      <td>6.0</td>\n",
       "      <td>3.90</td>\n",
       "      <td>0.00</td>\n",
       "      <td>d</td>\n",
       "    </tr>\n",
       "    <tr>\n",
       "      <th>8</th>\n",
       "      <td>3564707121231</td>\n",
       "      <td>Compotes multi variétés allégées en sucres bio</td>\n",
       "      <td>NaN</td>\n",
       "      <td>12 x 90 g</td>\n",
       "      <td>1.6</td>\n",
       "      <td>0.50</td>\n",
       "      <td>96.0</td>\n",
       "      <td>273.0</td>\n",
       "      <td>0.10</td>\n",
       "      <td>13.80</td>\n",
       "      <td>0.01000</td>\n",
       "      <td>-3.0</td>\n",
       "      <td>15.50</td>\n",
       "      <td>0.50</td>\n",
       "      <td>a</td>\n",
       "    </tr>\n",
       "    <tr>\n",
       "      <th>9</th>\n",
       "      <td>3760074411306</td>\n",
       "      <td>Galettes bretonnes</td>\n",
       "      <td>NaN</td>\n",
       "      <td>NaN</td>\n",
       "      <td>NaN</td>\n",
       "      <td>8.20</td>\n",
       "      <td>NaN</td>\n",
       "      <td>2167.0</td>\n",
       "      <td>19.00</td>\n",
       "      <td>18.00</td>\n",
       "      <td>0.74000</td>\n",
       "      <td>22.0</td>\n",
       "      <td>51.00</td>\n",
       "      <td>31.00</td>\n",
       "      <td>e</td>\n",
       "    </tr>\n",
       "    <tr>\n",
       "      <th>10</th>\n",
       "      <td>8428532192307</td>\n",
       "      <td>Riz Épeautre Amande</td>\n",
       "      <td>NaN</td>\n",
       "      <td>1 l</td>\n",
       "      <td>NaN</td>\n",
       "      <td>0.90</td>\n",
       "      <td>NaN</td>\n",
       "      <td>276.0</td>\n",
       "      <td>0.60</td>\n",
       "      <td>6.00</td>\n",
       "      <td>0.16000</td>\n",
       "      <td>1.0</td>\n",
       "      <td>10.10</td>\n",
       "      <td>2.30</td>\n",
       "      <td>b</td>\n",
       "    </tr>\n",
       "    <tr>\n",
       "      <th>11</th>\n",
       "      <td>9556084009541</td>\n",
       "      <td>Banh bao vegetarienne</td>\n",
       "      <td>NaN</td>\n",
       "      <td>NaN</td>\n",
       "      <td>NaN</td>\n",
       "      <td>8.50</td>\n",
       "      <td>NaN</td>\n",
       "      <td>916.0</td>\n",
       "      <td>0.10</td>\n",
       "      <td>13.70</td>\n",
       "      <td>0.30000</td>\n",
       "      <td>1.0</td>\n",
       "      <td>44.30</td>\n",
       "      <td>1.00</td>\n",
       "      <td>b</td>\n",
       "    </tr>\n",
       "    <tr>\n",
       "      <th>12</th>\n",
       "      <td>5601370001212</td>\n",
       "      <td>Azúcar glacé</td>\n",
       "      <td>NaN</td>\n",
       "      <td>NaN</td>\n",
       "      <td>NaN</td>\n",
       "      <td>0.00</td>\n",
       "      <td>NaN</td>\n",
       "      <td>1665.0</td>\n",
       "      <td>0.00</td>\n",
       "      <td>95.00</td>\n",
       "      <td>0.00000</td>\n",
       "      <td>14.0</td>\n",
       "      <td>100.00</td>\n",
       "      <td>0.00</td>\n",
       "      <td>d</td>\n",
       "    </tr>\n",
       "    <tr>\n",
       "      <th>13</th>\n",
       "      <td>3356993451808</td>\n",
       "      <td>Rillettes saumon rouge du pacific</td>\n",
       "      <td>NaN</td>\n",
       "      <td>NaN</td>\n",
       "      <td>NaN</td>\n",
       "      <td>15.00</td>\n",
       "      <td>NaN</td>\n",
       "      <td>1134.0</td>\n",
       "      <td>7.40</td>\n",
       "      <td>0.70</td>\n",
       "      <td>1.40000</td>\n",
       "      <td>16.0</td>\n",
       "      <td>5.40</td>\n",
       "      <td>21.00</td>\n",
       "      <td>d</td>\n",
       "    </tr>\n",
       "    <tr>\n",
       "      <th>14</th>\n",
       "      <td>3760099550264</td>\n",
       "      <td>Huile d'olive extra vierge aromatisee a la tru...</td>\n",
       "      <td>NaN</td>\n",
       "      <td>NaN</td>\n",
       "      <td>0.0</td>\n",
       "      <td>0.00</td>\n",
       "      <td>NaN</td>\n",
       "      <td>3439.0</td>\n",
       "      <td>13.02</td>\n",
       "      <td>0.00</td>\n",
       "      <td>0.00000</td>\n",
       "      <td>11.0</td>\n",
       "      <td>0.00</td>\n",
       "      <td>91.30</td>\n",
       "      <td>d</td>\n",
       "    </tr>\n",
       "    <tr>\n",
       "      <th>15</th>\n",
       "      <td>5400141272420</td>\n",
       "      <td>Cola zero</td>\n",
       "      <td>NaN</td>\n",
       "      <td>50cl</td>\n",
       "      <td>NaN</td>\n",
       "      <td>2.00</td>\n",
       "      <td>NaN</td>\n",
       "      <td>1749.0</td>\n",
       "      <td>34.00</td>\n",
       "      <td>1.10</td>\n",
       "      <td>1.00000</td>\n",
       "      <td>25.0</td>\n",
       "      <td>21.00</td>\n",
       "      <td>45.00</td>\n",
       "      <td>e</td>\n",
       "    </tr>\n",
       "    <tr>\n",
       "      <th>16</th>\n",
       "      <td>76222320</td>\n",
       "      <td>Nougatti, Nougat Mit Schokolade</td>\n",
       "      <td>NaN</td>\n",
       "      <td>1</td>\n",
       "      <td>0.8</td>\n",
       "      <td>5.90</td>\n",
       "      <td>NaN</td>\n",
       "      <td>1983.0</td>\n",
       "      <td>9.40</td>\n",
       "      <td>49.00</td>\n",
       "      <td>0.30000</td>\n",
       "      <td>25.0</td>\n",
       "      <td>57.00</td>\n",
       "      <td>24.00</td>\n",
       "      <td>e</td>\n",
       "    </tr>\n",
       "    <tr>\n",
       "      <th>17</th>\n",
       "      <td>3497390000180</td>\n",
       "      <td>Delicias à la Crème Catalane</td>\n",
       "      <td>Madeleines fourrées à la crème catalane - Deli...</td>\n",
       "      <td>300 g</td>\n",
       "      <td>NaN</td>\n",
       "      <td>4.40</td>\n",
       "      <td>NaN</td>\n",
       "      <td>1573.0</td>\n",
       "      <td>2.70</td>\n",
       "      <td>12.00</td>\n",
       "      <td>0.65000</td>\n",
       "      <td>8.0</td>\n",
       "      <td>50.00</td>\n",
       "      <td>19.00</td>\n",
       "      <td>c</td>\n",
       "    </tr>\n",
       "    <tr>\n",
       "      <th>18</th>\n",
       "      <td>3700961303086</td>\n",
       "      <td>Chocolat blond PÂTISSIER</td>\n",
       "      <td>NaN</td>\n",
       "      <td>280 g</td>\n",
       "      <td>NaN</td>\n",
       "      <td>8.10</td>\n",
       "      <td>NaN</td>\n",
       "      <td>2356.0</td>\n",
       "      <td>22.00</td>\n",
       "      <td>52.00</td>\n",
       "      <td>0.56000</td>\n",
       "      <td>29.0</td>\n",
       "      <td>52.00</td>\n",
       "      <td>35.00</td>\n",
       "      <td>e</td>\n",
       "    </tr>\n",
       "    <tr>\n",
       "      <th>19</th>\n",
       "      <td>4002160092150</td>\n",
       "      <td>Néctar De Naranja Hecho Parcialmente A Partir ...</td>\n",
       "      <td>Zumo de naranja</td>\n",
       "      <td>1l</td>\n",
       "      <td>NaN</td>\n",
       "      <td>0.50</td>\n",
       "      <td>NaN</td>\n",
       "      <td>188.0</td>\n",
       "      <td>0.10</td>\n",
       "      <td>10.10</td>\n",
       "      <td>0.00000</td>\n",
       "      <td>14.0</td>\n",
       "      <td>10.10</td>\n",
       "      <td>0.50</td>\n",
       "      <td>e</td>\n",
       "    </tr>\n",
       "  </tbody>\n",
       "</table>\n",
       "</div>"
      ],
      "text/plain": [
       "             code                                       product_name  \\\n",
       "0   4250665323358                                   Magnesium-Citrat   \n",
       "1   3268350120688   Biscottes à la farine complète et graines de lin   \n",
       "2   4335896750255                                      Bio Tofu Hack   \n",
       "3   8801005123495                               Crispy seaweed snack   \n",
       "4   0213400023290                                    Filet de poulet   \n",
       "5   0725439980890                                             Hummus   \n",
       "6   8437000639404                                    Claras de huevo   \n",
       "7   5708190025050        Rooibos Tea Elderberry Ginger Ginseng Agave   \n",
       "8   3564707121231     Compotes multi variétés allégées en sucres bio   \n",
       "9   3760074411306                                 Galettes bretonnes   \n",
       "10  8428532192307                                Riz Épeautre Amande   \n",
       "11  9556084009541                              Banh bao vegetarienne   \n",
       "12  5601370001212                                       Azúcar glacé   \n",
       "13  3356993451808                  Rillettes saumon rouge du pacific   \n",
       "14  3760099550264  Huile d'olive extra vierge aromatisee a la tru...   \n",
       "15  5400141272420                                          Cola zero   \n",
       "16       76222320                    Nougatti, Nougat Mit Schokolade   \n",
       "17  3497390000180                       Delicias à la Crème Catalane   \n",
       "18  3700961303086                           Chocolat blond PÂTISSIER   \n",
       "19  4002160092150  Néctar De Naranja Hecho Parcialmente A Partir ...   \n",
       "\n",
       "                                         generic_name   quantity  fiber_100g  \\\n",
       "0                                                 NaN    ℮ 250 g         0.0   \n",
       "1    Biscottes à la farine complète et graines de lin      270 g        12.4   \n",
       "2                                                 NaN      200 g         0.5   \n",
       "3                                                 NaN        NaN         NaN   \n",
       "4                                                 NaN        NaN         NaN   \n",
       "5                                                 NaN        NaN         3.6   \n",
       "6                                                 NaN        NaN         NaN   \n",
       "7                                                 NaN   330 ml e         0.0   \n",
       "8                                                 NaN  12 x 90 g         1.6   \n",
       "9                                                 NaN        NaN         NaN   \n",
       "10                                                NaN        1 l         NaN   \n",
       "11                                                NaN        NaN         NaN   \n",
       "12                                                NaN        NaN         NaN   \n",
       "13                                                NaN        NaN         NaN   \n",
       "14                                                NaN        NaN         0.0   \n",
       "15                                                NaN       50cl         NaN   \n",
       "16                                                NaN          1         0.8   \n",
       "17  Madeleines fourrées à la crème catalane - Deli...      300 g         NaN   \n",
       "18                                                NaN      280 g         NaN   \n",
       "19                                    Zumo de naranja         1l         NaN   \n",
       "\n",
       "    proteins_100g  fruits-vegetables-nuts_100g  energy_100g  \\\n",
       "0            0.00                          NaN       1139.0   \n",
       "1           13.40                          NaN       1622.0   \n",
       "2           21.00                          NaN       1120.0   \n",
       "3           50.00                          NaN       1799.0   \n",
       "4           23.00                          NaN        435.0   \n",
       "5            7.14                          NaN        598.0   \n",
       "6           11.30                          NaN        209.0   \n",
       "7            0.00                          NaN         71.0   \n",
       "8            0.50                         96.0        273.0   \n",
       "9            8.20                          NaN       2167.0   \n",
       "10           0.90                          NaN        276.0   \n",
       "11           8.50                          NaN        916.0   \n",
       "12           0.00                          NaN       1665.0   \n",
       "13          15.00                          NaN       1134.0   \n",
       "14           0.00                          NaN       3439.0   \n",
       "15           2.00                          NaN       1749.0   \n",
       "16           5.90                          NaN       1983.0   \n",
       "17           4.40                          NaN       1573.0   \n",
       "18           8.10                          NaN       2356.0   \n",
       "19           0.50                          NaN        188.0   \n",
       "\n",
       "    saturated-fat_100g  sugars_100g  salt_100g  nutrition-score-fr_100g  \\\n",
       "0                 0.00         1.50    0.03000                      3.0   \n",
       "1                 1.20         0.30    1.40000                      6.0   \n",
       "2                 2.90         0.80    0.93000                      4.0   \n",
       "3                 0.00         3.00    2.00000                     13.0   \n",
       "4                 0.40         0.00    0.11000                     -4.0   \n",
       "5                 0.00         3.57    0.90678                     -2.0   \n",
       "6                 0.00         0.70    0.30000                     -4.0   \n",
       "7                 0.00         3.80    0.00300                      6.0   \n",
       "8                 0.10        13.80    0.01000                     -3.0   \n",
       "9                19.00        18.00    0.74000                     22.0   \n",
       "10                0.60         6.00    0.16000                      1.0   \n",
       "11                0.10        13.70    0.30000                      1.0   \n",
       "12                0.00        95.00    0.00000                     14.0   \n",
       "13                7.40         0.70    1.40000                     16.0   \n",
       "14               13.02         0.00    0.00000                     11.0   \n",
       "15               34.00         1.10    1.00000                     25.0   \n",
       "16                9.40        49.00    0.30000                     25.0   \n",
       "17                2.70        12.00    0.65000                      8.0   \n",
       "18               22.00        52.00    0.56000                     29.0   \n",
       "19                0.10        10.10    0.00000                     14.0   \n",
       "\n",
       "    carbohydrates_100g  fat_100g nutriscore_grade  \n",
       "0                 4.20      0.00                c  \n",
       "1                72.00      7.90                c  \n",
       "2                 5.20     18.00                c  \n",
       "3                50.00      0.00                d  \n",
       "4                 0.00      1.30                a  \n",
       "5                17.86      5.36                a  \n",
       "6                 0.70      0.00                a  \n",
       "7                 3.90      0.00                d  \n",
       "8                15.50      0.50                a  \n",
       "9                51.00     31.00                e  \n",
       "10               10.10      2.30                b  \n",
       "11               44.30      1.00                b  \n",
       "12              100.00      0.00                d  \n",
       "13                5.40     21.00                d  \n",
       "14                0.00     91.30                d  \n",
       "15               21.00     45.00                e  \n",
       "16               57.00     24.00                e  \n",
       "17               50.00     19.00                c  \n",
       "18               52.00     35.00                e  \n",
       "19               10.10      0.50                e  "
      ]
     },
     "execution_count": 5,
     "metadata": {},
     "output_type": "execute_result"
    }
   ],
   "source": [
    "test.head(n=20)"
   ]
  },
  {
   "cell_type": "code",
   "execution_count": 6,
   "metadata": {},
   "outputs": [
    {
     "data": {
      "text/plain": [
       "(189557, 14)"
      ]
     },
     "execution_count": 6,
     "metadata": {},
     "output_type": "execute_result"
    }
   ],
   "source": [
    "#This dataset was cleaned by a preprocessing done in the other notebook\n",
    "train.shape"
   ]
  },
  {
   "cell_type": "code",
   "execution_count": 7,
   "metadata": {},
   "outputs": [
    {
     "data": {
      "text/html": [
       "<div>\n",
       "<style scoped>\n",
       "    .dataframe tbody tr th:only-of-type {\n",
       "        vertical-align: middle;\n",
       "    }\n",
       "\n",
       "    .dataframe tbody tr th {\n",
       "        vertical-align: top;\n",
       "    }\n",
       "\n",
       "    .dataframe thead th {\n",
       "        text-align: right;\n",
       "    }\n",
       "</style>\n",
       "<table border=\"1\" class=\"dataframe\">\n",
       "  <thead>\n",
       "    <tr style=\"text-align: right;\">\n",
       "      <th></th>\n",
       "      <th>fiber_100g</th>\n",
       "      <th>proteins_100g</th>\n",
       "      <th>energy_100g</th>\n",
       "      <th>saturated-fat_100g</th>\n",
       "      <th>sugars_100g</th>\n",
       "      <th>salt_100g</th>\n",
       "      <th>carbohydrates_100g</th>\n",
       "      <th>fat_100g</th>\n",
       "      <th>mean_tree</th>\n",
       "      <th>code</th>\n",
       "      <th>product_name</th>\n",
       "      <th>nutrition-score-fr_100g</th>\n",
       "      <th>nutriscore_grade</th>\n",
       "      <th>verif</th>\n",
       "    </tr>\n",
       "  </thead>\n",
       "  <tbody>\n",
       "    <tr>\n",
       "      <th>0</th>\n",
       "      <td>4.00</td>\n",
       "      <td>7.0</td>\n",
       "      <td>2293.0</td>\n",
       "      <td>19.5</td>\n",
       "      <td>15.5</td>\n",
       "      <td>0.16000</td>\n",
       "      <td>53.0</td>\n",
       "      <td>34.00</td>\n",
       "      <td>0.209743</td>\n",
       "      <td>5413415206304</td>\n",
       "      <td>Chocolat Lait Cannelle de Ceylan</td>\n",
       "      <td>22.0</td>\n",
       "      <td>e</td>\n",
       "      <td>94.00</td>\n",
       "    </tr>\n",
       "    <tr>\n",
       "      <th>1</th>\n",
       "      <td>2.90</td>\n",
       "      <td>3.9</td>\n",
       "      <td>674.0</td>\n",
       "      <td>0.7</td>\n",
       "      <td>0.9</td>\n",
       "      <td>1.50000</td>\n",
       "      <td>22.8</td>\n",
       "      <td>5.60</td>\n",
       "      <td>0.128701</td>\n",
       "      <td>3760054096042</td>\n",
       "      <td>Taboule Oriental</td>\n",
       "      <td>6.0</td>\n",
       "      <td>c</td>\n",
       "      <td>32.30</td>\n",
       "    </tr>\n",
       "    <tr>\n",
       "      <th>2</th>\n",
       "      <td>1.25</td>\n",
       "      <td>1.4</td>\n",
       "      <td>1197.0</td>\n",
       "      <td>0.3</td>\n",
       "      <td>18.5</td>\n",
       "      <td>0.00000</td>\n",
       "      <td>66.3</td>\n",
       "      <td>1.40</td>\n",
       "      <td>0.024792</td>\n",
       "      <td>3701269300432</td>\n",
       "      <td>Pâte à tartiner châtaigne cacao</td>\n",
       "      <td>12.0</td>\n",
       "      <td>d</td>\n",
       "      <td>69.10</td>\n",
       "    </tr>\n",
       "    <tr>\n",
       "      <th>3</th>\n",
       "      <td>0.00</td>\n",
       "      <td>20.0</td>\n",
       "      <td>1159.0</td>\n",
       "      <td>15.5</td>\n",
       "      <td>0.0</td>\n",
       "      <td>1.50000</td>\n",
       "      <td>0.0</td>\n",
       "      <td>21.90</td>\n",
       "      <td>0.054727</td>\n",
       "      <td>3177870001042</td>\n",
       "      <td>Camembert de Normandie</td>\n",
       "      <td>14.0</td>\n",
       "      <td>d</td>\n",
       "      <td>41.90</td>\n",
       "    </tr>\n",
       "    <tr>\n",
       "      <th>4</th>\n",
       "      <td>0.00</td>\n",
       "      <td>3.4</td>\n",
       "      <td>359.0</td>\n",
       "      <td>0.8</td>\n",
       "      <td>14.2</td>\n",
       "      <td>0.12319</td>\n",
       "      <td>15.4</td>\n",
       "      <td>1.42</td>\n",
       "      <td>0.052760</td>\n",
       "      <td>0056920052421</td>\n",
       "      <td>Yoplait Crémeux vanille</td>\n",
       "      <td>2.0</td>\n",
       "      <td>b</td>\n",
       "      <td>20.22</td>\n",
       "    </tr>\n",
       "  </tbody>\n",
       "</table>\n",
       "</div>"
      ],
      "text/plain": [
       "   fiber_100g  proteins_100g  energy_100g  saturated-fat_100g  sugars_100g  \\\n",
       "0        4.00            7.0       2293.0                19.5         15.5   \n",
       "1        2.90            3.9        674.0                 0.7          0.9   \n",
       "2        1.25            1.4       1197.0                 0.3         18.5   \n",
       "3        0.00           20.0       1159.0                15.5          0.0   \n",
       "4        0.00            3.4        359.0                 0.8         14.2   \n",
       "\n",
       "   salt_100g  carbohydrates_100g  fat_100g  mean_tree           code  \\\n",
       "0    0.16000                53.0     34.00   0.209743  5413415206304   \n",
       "1    1.50000                22.8      5.60   0.128701  3760054096042   \n",
       "2    0.00000                66.3      1.40   0.024792  3701269300432   \n",
       "3    1.50000                 0.0     21.90   0.054727  3177870001042   \n",
       "4    0.12319                15.4      1.42   0.052760  0056920052421   \n",
       "\n",
       "                       product_name  nutrition-score-fr_100g nutriscore_grade  \\\n",
       "0  Chocolat Lait Cannelle de Ceylan                     22.0                e   \n",
       "1                  Taboule Oriental                      6.0                c   \n",
       "2   Pâte à tartiner châtaigne cacao                     12.0                d   \n",
       "3            Camembert de Normandie                     14.0                d   \n",
       "4           Yoplait Crémeux vanille                      2.0                b   \n",
       "\n",
       "   verif  \n",
       "0  94.00  \n",
       "1  32.30  \n",
       "2  69.10  \n",
       "3  41.90  \n",
       "4  20.22  "
      ]
     },
     "execution_count": 7,
     "metadata": {},
     "output_type": "execute_result"
    }
   ],
   "source": [
    "train.head()"
   ]
  },
  {
   "cell_type": "code",
   "execution_count": 8,
   "metadata": {},
   "outputs": [
    {
     "data": {
      "text/html": [
       "<div>\n",
       "<style scoped>\n",
       "    .dataframe tbody tr th:only-of-type {\n",
       "        vertical-align: middle;\n",
       "    }\n",
       "\n",
       "    .dataframe tbody tr th {\n",
       "        vertical-align: top;\n",
       "    }\n",
       "\n",
       "    .dataframe thead th {\n",
       "        text-align: right;\n",
       "    }\n",
       "</style>\n",
       "<table border=\"1\" class=\"dataframe\">\n",
       "  <thead>\n",
       "    <tr style=\"text-align: right;\">\n",
       "      <th></th>\n",
       "      <th>code</th>\n",
       "      <th>product_name</th>\n",
       "      <th>generic_name</th>\n",
       "      <th>quantity</th>\n",
       "      <th>fiber_100g</th>\n",
       "      <th>proteins_100g</th>\n",
       "      <th>fruits-vegetables-nuts_100g</th>\n",
       "      <th>energy_100g</th>\n",
       "      <th>saturated-fat_100g</th>\n",
       "      <th>sugars_100g</th>\n",
       "      <th>salt_100g</th>\n",
       "      <th>nutrition-score-fr_100g</th>\n",
       "      <th>carbohydrates_100g</th>\n",
       "      <th>fat_100g</th>\n",
       "      <th>nutriscore_grade</th>\n",
       "    </tr>\n",
       "  </thead>\n",
       "  <tbody>\n",
       "    <tr>\n",
       "      <th>0</th>\n",
       "      <td>4250665323358</td>\n",
       "      <td>Magnesium-Citrat</td>\n",
       "      <td>NaN</td>\n",
       "      <td>℮ 250 g</td>\n",
       "      <td>0.0</td>\n",
       "      <td>0.0</td>\n",
       "      <td>NaN</td>\n",
       "      <td>1139.0</td>\n",
       "      <td>0.0</td>\n",
       "      <td>1.5</td>\n",
       "      <td>0.03</td>\n",
       "      <td>3.0</td>\n",
       "      <td>4.2</td>\n",
       "      <td>0.0</td>\n",
       "      <td>c</td>\n",
       "    </tr>\n",
       "    <tr>\n",
       "      <th>1</th>\n",
       "      <td>3268350120688</td>\n",
       "      <td>Biscottes à la farine complète et graines de lin</td>\n",
       "      <td>Biscottes à la farine complète et graines de lin</td>\n",
       "      <td>270 g</td>\n",
       "      <td>12.4</td>\n",
       "      <td>13.4</td>\n",
       "      <td>NaN</td>\n",
       "      <td>1622.0</td>\n",
       "      <td>1.2</td>\n",
       "      <td>0.3</td>\n",
       "      <td>1.40</td>\n",
       "      <td>6.0</td>\n",
       "      <td>72.0</td>\n",
       "      <td>7.9</td>\n",
       "      <td>c</td>\n",
       "    </tr>\n",
       "    <tr>\n",
       "      <th>2</th>\n",
       "      <td>4335896750255</td>\n",
       "      <td>Bio Tofu Hack</td>\n",
       "      <td>NaN</td>\n",
       "      <td>200 g</td>\n",
       "      <td>0.5</td>\n",
       "      <td>21.0</td>\n",
       "      <td>NaN</td>\n",
       "      <td>1120.0</td>\n",
       "      <td>2.9</td>\n",
       "      <td>0.8</td>\n",
       "      <td>0.93</td>\n",
       "      <td>4.0</td>\n",
       "      <td>5.2</td>\n",
       "      <td>18.0</td>\n",
       "      <td>c</td>\n",
       "    </tr>\n",
       "    <tr>\n",
       "      <th>3</th>\n",
       "      <td>8801005123495</td>\n",
       "      <td>Crispy seaweed snack</td>\n",
       "      <td>NaN</td>\n",
       "      <td>NaN</td>\n",
       "      <td>NaN</td>\n",
       "      <td>50.0</td>\n",
       "      <td>NaN</td>\n",
       "      <td>1799.0</td>\n",
       "      <td>0.0</td>\n",
       "      <td>3.0</td>\n",
       "      <td>2.00</td>\n",
       "      <td>13.0</td>\n",
       "      <td>50.0</td>\n",
       "      <td>0.0</td>\n",
       "      <td>d</td>\n",
       "    </tr>\n",
       "    <tr>\n",
       "      <th>4</th>\n",
       "      <td>0213400023290</td>\n",
       "      <td>Filet de poulet</td>\n",
       "      <td>NaN</td>\n",
       "      <td>NaN</td>\n",
       "      <td>NaN</td>\n",
       "      <td>23.0</td>\n",
       "      <td>NaN</td>\n",
       "      <td>435.0</td>\n",
       "      <td>0.4</td>\n",
       "      <td>0.0</td>\n",
       "      <td>0.11</td>\n",
       "      <td>-4.0</td>\n",
       "      <td>0.0</td>\n",
       "      <td>1.3</td>\n",
       "      <td>a</td>\n",
       "    </tr>\n",
       "  </tbody>\n",
       "</table>\n",
       "</div>"
      ],
      "text/plain": [
       "            code                                      product_name  \\\n",
       "0  4250665323358                                  Magnesium-Citrat   \n",
       "1  3268350120688  Biscottes à la farine complète et graines de lin   \n",
       "2  4335896750255                                     Bio Tofu Hack   \n",
       "3  8801005123495                              Crispy seaweed snack   \n",
       "4  0213400023290                                   Filet de poulet   \n",
       "\n",
       "                                       generic_name quantity  fiber_100g  \\\n",
       "0                                               NaN  ℮ 250 g         0.0   \n",
       "1  Biscottes à la farine complète et graines de lin    270 g        12.4   \n",
       "2                                               NaN    200 g         0.5   \n",
       "3                                               NaN      NaN         NaN   \n",
       "4                                               NaN      NaN         NaN   \n",
       "\n",
       "   proteins_100g  fruits-vegetables-nuts_100g  energy_100g  \\\n",
       "0            0.0                          NaN       1139.0   \n",
       "1           13.4                          NaN       1622.0   \n",
       "2           21.0                          NaN       1120.0   \n",
       "3           50.0                          NaN       1799.0   \n",
       "4           23.0                          NaN        435.0   \n",
       "\n",
       "   saturated-fat_100g  sugars_100g  salt_100g  nutrition-score-fr_100g  \\\n",
       "0                 0.0          1.5       0.03                      3.0   \n",
       "1                 1.2          0.3       1.40                      6.0   \n",
       "2                 2.9          0.8       0.93                      4.0   \n",
       "3                 0.0          3.0       2.00                     13.0   \n",
       "4                 0.4          0.0       0.11                     -4.0   \n",
       "\n",
       "   carbohydrates_100g  fat_100g nutriscore_grade  \n",
       "0                 4.2       0.0                c  \n",
       "1                72.0       7.9                c  \n",
       "2                 5.2      18.0                c  \n",
       "3                50.0       0.0                d  \n",
       "4                 0.0       1.3                a  "
      ]
     },
     "execution_count": 8,
     "metadata": {},
     "output_type": "execute_result"
    }
   ],
   "source": [
    "test.head()"
   ]
  },
  {
   "cell_type": "markdown",
   "metadata": {},
   "source": [
    "## I- Tests statistiques "
   ]
  },
  {
   "cell_type": "markdown",
   "metadata": {},
   "source": [
    "### 1) test de correlation "
   ]
  },
  {
   "cell_type": "markdown",
   "metadata": {},
   "source": [
    "Tests de normalité\n",
    "\n",
    "Nous allons tester la normalité de la distribution statistique. Voici le test statistique :\n",
    "\n",
    "H0 : les valeurs de la variable 'nutrition-score-fr_100g' pour l'échantillon sont issus d'une population normalement distribuée.\n",
    "\n",
    "H1 : les valeurs de la variable 'nutrition-score-fr_100g' pour l'échantillon NE sont PAS issus d'une population normalement distribuée"
   ]
  },
  {
   "cell_type": "code",
   "execution_count": 9,
   "metadata": {},
   "outputs": [
    {
     "name": "stdout",
     "output_type": "stream",
     "text": [
      "Statistics=0.974, p=0.000\n",
      "Sample does not look Gaussian (reject H0)\n"
     ]
    },
    {
     "name": "stderr",
     "output_type": "stream",
     "text": [
      "/data/arnaud/.local/lib/python3.5/site-packages/scipy/stats/morestats.py:1660: UserWarning: p-value may not be accurate for N > 5000.\n",
      "  warnings.warn(\"p-value may not be accurate for N > 5000.\")\n"
     ]
    }
   ],
   "source": [
    "# Shapiro-Wilk Test\n",
    "\n",
    "# normality test\n",
    "stat, p = shapiro(train['nutrition-score-fr_100g'])\n",
    "print('Statistics=%.3f, p=%.3f' % (stat, p))\n",
    "# interpret\n",
    "alpha = 0.05\n",
    "if p > alpha:\n",
    "\tprint('Sample looks Gaussian (fail to reject H0)')\n",
    "else:\n",
    "\tprint('Sample does not look Gaussian (reject H0)')"
   ]
  },
  {
   "cell_type": "code",
   "execution_count": 10,
   "metadata": {},
   "outputs": [
    {
     "name": "stdout",
     "output_type": "stream",
     "text": [
      "Statistics=0.833, p=0.000\n",
      "For fiber_100g Sample does not look Gaussian (reject H0)\n",
      "Statistics=0.884, p=0.000\n",
      "For proteins_100g Sample does not look Gaussian (reject H0)\n",
      "Statistics=0.956, p=0.000\n",
      "For energy_100g Sample does not look Gaussian (reject H0)\n",
      "Statistics=0.793, p=0.000\n",
      "For saturated-fat_100g Sample does not look Gaussian (reject H0)\n",
      "Statistics=0.788, p=0.000\n",
      "For sugars_100g Sample does not look Gaussian (reject H0)\n",
      "Statistics=0.868, p=0.000\n",
      "For salt_100g Sample does not look Gaussian (reject H0)\n",
      "Statistics=0.865, p=0.000\n",
      "For carbohydrates_100g Sample does not look Gaussian (reject H0)\n",
      "Statistics=0.857, p=0.000\n",
      "For fat_100g Sample does not look Gaussian (reject H0)\n",
      "Statistics=0.874, p=0.000\n",
      "For mean_tree Sample does not look Gaussian (reject H0)\n",
      "Statistics=0.974, p=0.000\n",
      "For nutrition-score-fr_100g Sample does not look Gaussian (reject H0)\n",
      "Statistics=0.917, p=0.000\n",
      "For verif Sample does not look Gaussian (reject H0)\n"
     ]
    }
   ],
   "source": [
    "# normality test\n",
    "liste=['fiber_100g', 'proteins_100g', 'energy_100g', 'saturated-fat_100g',\n",
    "       'sugars_100g', 'salt_100g', 'carbohydrates_100g', 'fat_100g',\n",
    "       'mean_tree', 'nutrition-score-fr_100g','verif']\n",
    "for i in liste : \n",
    "    stat, p = shapiro(train[i])\n",
    "    print('Statistics=%.3f, p=%.3f' % (stat, p))\n",
    "# interpret\n",
    "    alpha = 0.05\n",
    "    if p > alpha:\n",
    "        print('For',i,'Sample looks Gaussian (fail to reject H0)')\n",
    "    else:\n",
    "        print('For',i,'Sample does not look Gaussian (reject H0)')"
   ]
  },
  {
   "cell_type": "code",
   "execution_count": 11,
   "metadata": {},
   "outputs": [
    {
     "data": {
      "text/plain": [
       "fiber_100g                    0\n",
       "proteins_100g                 0\n",
       "energy_100g                   0\n",
       "saturated-fat_100g            0\n",
       "sugars_100g                   0\n",
       "salt_100g                     0\n",
       "carbohydrates_100g            0\n",
       "fat_100g                      0\n",
       "mean_tree                     0\n",
       "code                          0\n",
       "product_name               1159\n",
       "nutrition-score-fr_100g       0\n",
       "nutriscore_grade              1\n",
       "verif                         0\n",
       "dtype: int64"
      ]
     },
     "execution_count": 11,
     "metadata": {},
     "output_type": "execute_result"
    }
   ],
   "source": [
    "train.isna().sum()"
   ]
  },
  {
   "cell_type": "code",
   "execution_count": 12,
   "metadata": {},
   "outputs": [
    {
     "data": {
      "image/png": "[encoded data removed]",
      "text/plain": [
       "<Figure size 432x288 with 1 Axes>"
      ]
     },
     "metadata": {
      "needs_background": "light"
     },
     "output_type": "display_data"
    }
   ],
   "source": [
    "sns.distplot(train['nutrition-score-fr_100g']);"
   ]
  },
  {
   "cell_type": "code",
   "execution_count": 13,
   "metadata": {},
   "outputs": [
    {
     "name": "stdout",
     "output_type": "stream",
     "text": [
      "Statistics=0.500, p=0.000\n",
      "For fiber_100g Sample does not look Gaussian (reject H0)\n",
      "Statistics=0.727, p=0.000\n",
      "For proteins_100g Sample does not look Gaussian (reject H0)\n",
      "Statistics=0.999, p=0.000\n",
      "For energy_100g Sample does not look Gaussian (reject H0)\n",
      "Statistics=0.500, p=0.000\n",
      "For saturated-fat_100g Sample does not look Gaussian (reject H0)\n",
      "Statistics=0.605, p=0.000\n",
      "For sugars_100g Sample does not look Gaussian (reject H0)\n",
      "Statistics=0.500, p=0.000\n",
      "For salt_100g Sample does not look Gaussian (reject H0)\n",
      "Statistics=0.816, p=0.000\n",
      "For carbohydrates_100g Sample does not look Gaussian (reject H0)\n",
      "Statistics=0.686, p=0.000\n",
      "For fat_100g Sample does not look Gaussian (reject H0)\n",
      "Statistics=0.500, p=0.000\n",
      "For mean_tree Sample does not look Gaussian (reject H0)\n",
      "Statistics=0.737, p=0.000\n",
      "For nutrition-score-fr_100g Sample does not look Gaussian (reject H0)\n",
      "Statistics=0.986, p=0.000\n",
      "For verif Sample does not look Gaussian (reject H0)\n"
     ]
    }
   ],
   "source": [
    "# Kolmogorov-Smirnov test\n",
    "for i in liste : \n",
    "    stat, p = stats.kstest((train[i]),'norm')\n",
    "    print('Statistics=%.3f, p=%.3f' % (stat, p))\n",
    "# interpret\n",
    "    alpha = 0.05\n",
    "    if p > alpha:\n",
    "        print('For',i,'Sample looks Gaussian (fail to reject H0)')\n",
    "    else:\n",
    "        print('For',i,'Sample does not look Gaussian (reject H0)')\n"
   ]
  },
  {
   "cell_type": "markdown",
   "metadata": {},
   "source": [
    "Une distribution bimodale est une distribution statistique présentant plusieurs modes et par définition ne suit pas une loi normale. "
   ]
  },
  {
   "cell_type": "code",
   "execution_count": 14,
   "metadata": {},
   "outputs": [],
   "source": [
    "heat1=train.copy()"
   ]
  },
  {
   "cell_type": "code",
   "execution_count": 15,
   "metadata": {},
   "outputs": [
    {
     "data": {
      "image/png": "[encoded data removed]",
      "text/plain": [
       "<Figure size 864x576 with 2 Axes>"
      ]
     },
     "metadata": {
      "needs_background": "light"
     },
     "output_type": "display_data"
    }
   ],
   "source": [
    "plt.figure(figsize=(12, 8))\n",
    "\n",
    "vg_corr = heat1.corr()\n",
    "sns.heatmap(vg_corr, \n",
    "            xticklabels = vg_corr.columns.values,\n",
    "            yticklabels = vg_corr.columns.values,\n",
    "            annot = True);"
   ]
  },
  {
   "cell_type": "code",
   "execution_count": 16,
   "metadata": {},
   "outputs": [
    {
     "name": "stdout",
     "output_type": "stream",
     "text": [
      "stat=0.736, p=0.000\n",
      "fat_100g and saturated-fat_100g are probably dependent\n"
     ]
    }
   ],
   "source": [
    "#Pearson correlation test \n",
    "from scipy.stats import pearsonr\n",
    "\n",
    "stat, p = pearsonr(train['fat_100g'], train['saturated-fat_100g'])\n",
    "print('stat=%.3f, p=%.3f' % (stat, p))\n",
    "\n",
    "alpha=0.05\n",
    "\n",
    "if p > alpha:\n",
    "\tprint('fat_100g and saturated-fat_100g are probably independent')\n",
    "else:\n",
    "\tprint('fat_100g and saturated-fat_100g are probably dependent')\n"
   ]
  },
  {
   "cell_type": "markdown",
   "metadata": {},
   "source": [
    "## Anova "
   ]
  },
  {
   "cell_type": "code",
   "execution_count": 17,
   "metadata": {},
   "outputs": [
    {
     "data": {
      "text/plain": [
       "Index(['fiber_100g', 'proteins_100g', 'energy_100g', 'saturated-fat_100g',\n",
       "       'sugars_100g', 'salt_100g', 'carbohydrates_100g', 'fat_100g',\n",
       "       'mean_tree', 'code', 'product_name', 'nutrition-score-fr_100g',\n",
       "       'nutriscore_grade', 'verif'],\n",
       "      dtype='object')"
      ]
     },
     "execution_count": 17,
     "metadata": {},
     "output_type": "execute_result"
    }
   ],
   "source": [
    "train.columns"
   ]
  },
  {
   "cell_type": "code",
   "execution_count": 18,
   "metadata": {},
   "outputs": [],
   "source": [
    "X = \"nutriscore_grade\" # qualitative\n",
    "Y = \"fiber_100g\" # quantitative\n",
    "\n",
    "sous_echantillon = train.copy()\n",
    "sous_echantillon.dropna(subset = [\"product_name\",\"nutriscore_grade\"], inplace=True)\n"
   ]
  },
  {
   "cell_type": "markdown",
   "metadata": {},
   "source": [
    "# Changement de la palette graphique\n",
    "sns.set_palette(sns.color_palette(\"colorblind\", 3))"
   ]
  },
  {
   "cell_type": "code",
   "execution_count": 19,
   "metadata": {},
   "outputs": [
    {
     "data": {
      "image/png": "[encoded data removed]",
      "text/plain": [
       "<Figure size 432x288 with 1 Axes>"
      ]
     },
     "metadata": {
      "needs_background": "light"
     },
     "output_type": "display_data"
    }
   ],
   "source": [
    "modalites = sous_echantillon[X].unique()\n",
    "groupes = []\n",
    "for m in modalites:\n",
    "    groupes.append(sous_echantillon[sous_echantillon[X]==m][Y])\n",
    "    \n",
    "medianprops = {'color':\"black\"}\n",
    "meanprops = {'marker':'o', 'markeredgecolor':'black',\n",
    "            'markerfacecolor':'firebrick'}\n",
    "    \n",
    "plt.boxplot(groupes, labels=modalites, showfliers=False, medianprops=medianprops, \n",
    "            vert=False, patch_artist=True, showmeans=True, meanprops=meanprops)\n",
    "plt.xlabel(\"nutrition-score-fr_100g\")\n",
    "plt.ylabel(\"product_name\")\n",
    "plt.show()"
   ]
  },
  {
   "cell_type": "code",
   "execution_count": 20,
   "metadata": {},
   "outputs": [
    {
     "name": "stdout",
     "output_type": "stream",
     "text": [
      "stat=1191.976, p=0.000\n",
      "Probably different distributions\n"
     ]
    }
   ],
   "source": [
    "# Example of the Analysis of Variance Test\n",
    "stat, p = f_oneway(sous_echantillon['fiber_100g'][sous_echantillon['nutriscore_grade']=='a'],\n",
    "                   sous_echantillon['fiber_100g'][sous_echantillon['nutriscore_grade']=='b'],\n",
    "                   sous_echantillon['fiber_100g'][sous_echantillon['nutriscore_grade']=='c'],\n",
    "                   sous_echantillon['fiber_100g'][sous_echantillon['nutriscore_grade']=='d'],\n",
    "                   sous_echantillon['fiber_100g'][sous_echantillon['nutriscore_grade']=='e'])\n",
    "\n",
    "print('stat=%.3f, p=%.3f' % (stat, p))\n",
    "if p > 0.05:\n",
    "\tprint('Probably the same distribution')\n",
    "else:\n",
    "\tprint('Probably different distributions')"
   ]
  },
  {
   "cell_type": "markdown",
   "metadata": {},
   "source": [
    "# ACP "
   ]
  },
  {
   "cell_type": "code",
   "execution_count": 21,
   "metadata": {},
   "outputs": [
    {
     "data": {
      "text/plain": [
       "Index(['fiber_100g', 'proteins_100g', 'energy_100g', 'saturated-fat_100g',\n",
       "       'sugars_100g', 'salt_100g', 'carbohydrates_100g', 'fat_100g',\n",
       "       'mean_tree', 'code', 'product_name', 'nutrition-score-fr_100g',\n",
       "       'nutriscore_grade', 'verif'],\n",
       "      dtype='object')"
      ]
     },
     "execution_count": 21,
     "metadata": {},
     "output_type": "execute_result"
    }
   ],
   "source": [
    "train.columns"
   ]
  },
  {
   "cell_type": "code",
   "execution_count": 22,
   "metadata": {},
   "outputs": [],
   "source": [
    "acp_col=['fiber_100g', 'proteins_100g', 'energy_100g', 'saturated-fat_100g',\n",
    "       'sugars_100g', 'salt_100g', 'carbohydrates_100g', 'fat_100g']"
   ]
  },
  {
   "cell_type": "code",
   "execution_count": 23,
   "metadata": {},
   "outputs": [
    {
     "data": {
      "image/png": "[encoded data removed]",
      "text/plain": [
       "<Figure size 432x288 with 1 Axes>"
      ]
     },
     "metadata": {
      "needs_background": "light"
     },
     "output_type": "display_data"
    },
    {
     "data": {
      "image/png": "[encoded data removed]",
      "text/plain": [
       "<Figure size 504x432 with 1 Axes>"
      ]
     },
     "metadata": {
      "needs_background": "light"
     },
     "output_type": "display_data"
    }
   ],
   "source": [
    "import pandas as pd\n",
    "import numpy as np\n",
    "from sklearn import decomposition\n",
    "from sklearn import preprocessing\n",
    "from functions import *\n",
    "\n",
    "# choix du nombre de composantes à calculer\n",
    "n_comp = 8\n",
    "\n",
    "# import de l'échantillon\n",
    "data = train[acp_col]\n",
    "\n",
    "# selection des colonnes à prendre en compte dans l'ACP\n",
    "data_pca = train[acp_col]\n",
    "\n",
    "# préparation des données pour l'ACP\n",
    "#data_pca = data_pca.fillna(data_pca.mean()) # Il est fréquent de remplacer les valeurs inconnues par la moyenne de la variable\n",
    "X = data_pca.values\n",
    "names = data.index # ou data.index pour avoir les intitulés\n",
    "features = data.columns\n",
    "\n",
    "# Centrage et Réduction\n",
    "std_scale = preprocessing.StandardScaler().fit(X)\n",
    "X_scaled = std_scale.transform(X)#ici\n",
    "\n",
    "# Calcul des composantes principales\n",
    "pca = decomposition.PCA(n_components=n_comp)\n",
    "pca.fit(X_scaled)\n",
    "\n",
    "# Eboulis des valeurs propres\n",
    "display_scree_plot(pca)\n",
    "\n",
    "# Cercle des corrélations\n",
    "pcs = pca.components_\n",
    "display_circles(pcs, n_comp, pca, [(0,1)], labels = np.array(features))\n",
    "\n",
    "# Projection des individus\n",
    "#X_projected = pca.transform(X_scaled)#ici\n",
    "#display_factorial_planes(X_projected, n_comp, pca, [(0,1)], illustrative_var=np.array(names))\n",
    "#display_factorial_planes(X_projected, n_comp, pca, [(0,1)], illustrative_var=pure['is_genuine'])\n",
    "\n",
    "plt.show()"
   ]
  },
  {
   "cell_type": "markdown",
   "metadata": {},
   "source": [
    "# KNN"
   ]
  },
  {
   "cell_type": "code",
   "execution_count": 24,
   "metadata": {},
   "outputs": [
    {
     "data": {
      "text/plain": [
       "['fiber_100g',\n",
       " 'proteins_100g',\n",
       " 'energy_100g',\n",
       " 'saturated-fat_100g',\n",
       " 'sugars_100g',\n",
       " 'salt_100g',\n",
       " 'carbohydrates_100g',\n",
       " 'fat_100g']"
      ]
     },
     "execution_count": 24,
     "metadata": {},
     "output_type": "execute_result"
    }
   ],
   "source": [
    "acp_col"
   ]
  },
  {
   "cell_type": "code",
   "execution_count": 25,
   "metadata": {},
   "outputs": [],
   "source": [
    "scaler = StandardScaler()\n",
    "train_sca=(scaler.fit_transform(train[acp_col]))"
   ]
  },
  {
   "cell_type": "code",
   "execution_count": 26,
   "metadata": {},
   "outputs": [],
   "source": [
    "X_train = train_sca\n",
    "y_train= train['nutrition-score-fr_100g']"
   ]
  },
  {
   "cell_type": "markdown",
   "metadata": {},
   "source": [
    "# we could choose differenct neighbors to see which K is the best K.\n"
   ]
  },
  {
   "cell_type": "code",
   "execution_count": 27,
   "metadata": {},
   "outputs": [
    {
     "name": "stdout",
     "output_type": "stream",
     "text": [
      "Le nb de K optimal pour le MAE : {'n_neighbors': 9}\n"
     ]
    }
   ],
   "source": [
    "from sklearn.model_selection import GridSearchCV\n",
    "parameters = {'n_neighbors': list(range(1,31))}\n",
    "\n",
    "knn = KNeighborsRegressor()\n",
    "model = GridSearchCV(knn, parameters, cv=5,scoring='neg_mean_absolute_error')\n",
    "model.fit(X_train,y_train)\n",
    "print('Le nb de K optimal pour le MAE :', model.best_params_)\n",
    "mae=np.abs(model.best_score_)"
   ]
  },
  {
   "cell_type": "code",
   "execution_count": 28,
   "metadata": {},
   "outputs": [
    {
     "name": "stdout",
     "output_type": "stream",
     "text": [
      "Le nb de K optimal pour le RMSE : {'n_neighbors': 16}\n"
     ]
    }
   ],
   "source": [
    "from sklearn.model_selection import GridSearchCV\n",
    "parameters = {'n_neighbors': list(range(1,31))}\n",
    "\n",
    "knn = KNeighborsRegressor()\n",
    "#RMSE\n",
    "model = GridSearchCV(knn, parameters, cv=5,scoring='neg_root_mean_squared_error')\n",
    "model.fit(X_train,y_train)\n",
    "print('Le nb de K optimal pour le RMSE :', model.best_params_)\n",
    "rmse=(np.abs(model.best_score_))"
   ]
  },
  {
   "cell_type": "code",
   "execution_count": 29,
   "metadata": {},
   "outputs": [
    {
     "name": "stdout",
     "output_type": "stream",
     "text": [
      "TRAINING SET( without % nutrition-score-fr_100g)\n",
      "=========================================\n",
      "MAE:                 2.176053383322187\n",
      "RMSE:                3.4440734635654096\n"
     ]
    }
   ],
   "source": [
    "print (\"TRAINING SET( without % nutrition-score-fr_100g)\")\n",
    "print (\"=========================================\")\n",
    "print (\"MAE:                \", mae)\n",
    "print (\"RMSE:               \", rmse)"
   ]
  },
  {
   "cell_type": "code",
   "execution_count": 30,
   "metadata": {},
   "outputs": [
    {
     "data": {
      "text/plain": [
       "{'mean_fit_time': array([0.26234365, 0.26188855, 0.26183853, 0.26143928, 0.261901  ,\n",
       "        0.26519985, 0.26169062, 0.26181054, 0.26148195, 0.26222148,\n",
       "        0.26165714, 0.26125708, 0.26289229, 0.26156316, 0.26157227,\n",
       "        0.264782  , 0.26431141, 0.26511755, 0.26502161, 0.26555161,\n",
       "        0.26434288, 0.26510634, 0.26630144, 0.26117153, 0.26126289,\n",
       "        0.26085429, 0.26073952, 0.26040597, 0.26420231, 0.26043916]),\n",
       " 'mean_score_time': array([1.04338026, 1.39396133, 1.65194535, 1.85107403, 2.00163364,\n",
       "        2.15109706, 2.2791121 , 2.39751668, 2.51730695, 2.61599073,\n",
       "        2.7181797 , 2.81040916, 2.89982276, 2.99875112, 3.08001823,\n",
       "        3.18847332, 3.27542272, 3.359273  , 3.46836815, 3.50638528,\n",
       "        3.55487018, 3.63784328, 3.70267291, 3.80435691, 3.84177079,\n",
       "        3.88479199, 3.95288472, 4.01125207, 4.07598763, 4.13446975]),\n",
       " 'mean_test_score': array([-4.29449599, -3.81526111, -3.64733513, -3.56951246, -3.52675586,\n",
       "        -3.49823256, -3.47874022, -3.46946816, -3.45944154, -3.45360161,\n",
       "        -3.45087158, -3.44721414, -3.44630465, -3.44492034, -3.44482394,\n",
       "        -3.44407346, -3.44586122, -3.44504173, -3.44601098, -3.44727761,\n",
       "        -3.44827683, -3.44921529, -3.4504649 , -3.45169064, -3.45234333,\n",
       "        -3.45371829, -3.45505586, -3.45627316, -3.45838508, -3.45992455]),\n",
       " 'param_n_neighbors': masked_array(data=[1, 2, 3, 4, 5, 6, 7, 8, 9, 10, 11, 12, 13, 14, 15, 16,\n",
       "                    17, 18, 19, 20, 21, 22, 23, 24, 25, 26, 27, 28, 29, 30],\n",
       "              mask=[False, False, False, False, False, False, False, False,\n",
       "                    False, False, False, False, False, False, False, False,\n",
       "                    False, False, False, False, False, False, False, False,\n",
       "                    False, False, False, False, False, False],\n",
       "        fill_value='?',\n",
       "             dtype=object),\n",
       " 'params': [{'n_neighbors': 1},\n",
       "  {'n_neighbors': 2},\n",
       "  {'n_neighbors': 3},\n",
       "  {'n_neighbors': 4},\n",
       "  {'n_neighbors': 5},\n",
       "  {'n_neighbors': 6},\n",
       "  {'n_neighbors': 7},\n",
       "  {'n_neighbors': 8},\n",
       "  {'n_neighbors': 9},\n",
       "  {'n_neighbors': 10},\n",
       "  {'n_neighbors': 11},\n",
       "  {'n_neighbors': 12},\n",
       "  {'n_neighbors': 13},\n",
       "  {'n_neighbors': 14},\n",
       "  {'n_neighbors': 15},\n",
       "  {'n_neighbors': 16},\n",
       "  {'n_neighbors': 17},\n",
       "  {'n_neighbors': 18},\n",
       "  {'n_neighbors': 19},\n",
       "  {'n_neighbors': 20},\n",
       "  {'n_neighbors': 21},\n",
       "  {'n_neighbors': 22},\n",
       "  {'n_neighbors': 23},\n",
       "  {'n_neighbors': 24},\n",
       "  {'n_neighbors': 25},\n",
       "  {'n_neighbors': 26},\n",
       "  {'n_neighbors': 27},\n",
       "  {'n_neighbors': 28},\n",
       "  {'n_neighbors': 29},\n",
       "  {'n_neighbors': 30}],\n",
       " 'rank_test_score': array([30, 29, 28, 27, 26, 25, 24, 23, 21, 16, 13,  8,  7,  3,  2,  1,  5,\n",
       "         4,  6,  9, 10, 11, 12, 14, 15, 17, 18, 19, 20, 22], dtype=int32),\n",
       " 'split0_test_score': array([-4.23388732, -3.76807296, -3.60484403, -3.53522638, -3.49121119,\n",
       "        -3.46532393, -3.4454276 , -3.43414862, -3.42512351, -3.41750934,\n",
       "        -3.41460804, -3.41461452, -3.41409234, -3.41491892, -3.41600155,\n",
       "        -3.4150358 , -3.4142288 , -3.41304081, -3.41623858, -3.41767677,\n",
       "        -3.41629633, -3.41653192, -3.41669233, -3.41764958, -3.41827957,\n",
       "        -3.42086123, -3.42404003, -3.42571466, -3.42730984, -3.42993944]),\n",
       " 'split1_test_score': array([-4.27432897, -3.80300428, -3.64064547, -3.56648912, -3.527115  ,\n",
       "        -3.5011539 , -3.48241466, -3.47095061, -3.46466545, -3.45990608,\n",
       "        -3.45676879, -3.45219662, -3.45280866, -3.45070901, -3.45105647,\n",
       "        -3.44733861, -3.44835523, -3.44698354, -3.4472448 , -3.44700282,\n",
       "        -3.45063415, -3.45208972, -3.45472287, -3.45686283, -3.45760111,\n",
       "        -3.45877988, -3.46026615, -3.46251302, -3.46464988, -3.46554038]),\n",
       " 'split2_test_score': array([-4.3296785 , -3.86893144, -3.69765605, -3.61048334, -3.57377338,\n",
       "        -3.54222314, -3.51405075, -3.50263994, -3.48678063, -3.48018629,\n",
       "        -3.47421822, -3.47265101, -3.47391598, -3.47480568, -3.47633411,\n",
       "        -3.47678039, -3.47950985, -3.48181684, -3.48479036, -3.48811483,\n",
       "        -3.49041648, -3.49171993, -3.4926863 , -3.49335533, -3.49440134,\n",
       "        -3.49535344, -3.49589717, -3.49562935, -3.49749236, -3.49836993]),\n",
       " 'split3_test_score': array([-4.27184828, -3.79444158, -3.62997089, -3.54541997, -3.50549823,\n",
       "        -3.48024397, -3.46363539, -3.45938792, -3.45148403, -3.44616587,\n",
       "        -3.44592779, -3.44078383, -3.44082794, -3.43835579, -3.43809132,\n",
       "        -3.43795777, -3.43951166, -3.43734887, -3.43737888, -3.43976931,\n",
       "        -3.44041695, -3.44199067, -3.44344035, -3.44546691, -3.44689181,\n",
       "        -3.44762574, -3.44863494, -3.44978549, -3.45208372, -3.45351012]),\n",
       " 'split4_test_score': array([-4.36273689, -3.84185528, -3.66355919, -3.58994348, -3.53618151,\n",
       "        -3.50221784, -3.48817273, -3.48021371, -3.46915408, -3.46424046,\n",
       "        -3.46283504, -3.45582471, -3.44987833, -3.44581228, -3.44263625,\n",
       "        -3.44325476, -3.44770057, -3.44601857, -3.44440228, -3.44382435,\n",
       "        -3.44362021, -3.44374421, -3.44478264, -3.44511854, -3.4445428 ,\n",
       "        -3.44597115, -3.44644099, -3.44772329, -3.45038958, -3.45226289]),\n",
       " 'std_fit_time': array([0.006217  , 0.00511243, 0.00554166, 0.00557025, 0.00566132,\n",
       "        0.00767346, 0.00587711, 0.00540723, 0.00537934, 0.00516297,\n",
       "        0.00547778, 0.00607914, 0.00593105, 0.005733  , 0.00568599,\n",
       "        0.00525982, 0.00561838, 0.00545854, 0.00529473, 0.00655355,\n",
       "        0.00550788, 0.00514445, 0.00590583, 0.00503303, 0.0051178 ,\n",
       "        0.00567123, 0.00541151, 0.00535062, 0.00737393, 0.00554274]),\n",
       " 'std_score_time': array([0.04225573, 0.05562683, 0.06286081, 0.06073354, 0.0572329 ,\n",
       "        0.07017136, 0.06729859, 0.06488366, 0.06772602, 0.07145173,\n",
       "        0.07066109, 0.07242137, 0.07474616, 0.08556362, 0.07910582,\n",
       "        0.09081013, 0.08284047, 0.07773944, 0.10542753, 0.08182803,\n",
       "        0.08639819, 0.08520874, 0.08798661, 0.09196602, 0.08130071,\n",
       "        0.08469245, 0.0963289 , 0.08874372, 0.08792989, 0.0951638 ]),\n",
       " 'std_test_score': array([0.04579884, 0.03577194, 0.03145529, 0.02778907, 0.02833701,\n",
       "        0.0259467 , 0.02318273, 0.02265883, 0.02054312, 0.02106   ,\n",
       "        0.02030986, 0.01923583, 0.01941693, 0.01934227, 0.01955801,\n",
       "        0.01980738, 0.02089383, 0.02209241, 0.02222098, 0.02285723,\n",
       "        0.02403132, 0.02435256, 0.0245886 , 0.02450885, 0.02468776,\n",
       "        0.0242315 , 0.02354819, 0.02296457, 0.02296925, 0.02239883])}"
      ]
     },
     "execution_count": 30,
     "metadata": {},
     "output_type": "execute_result"
    }
   ],
   "source": [
    "model.cv_results_"
   ]
  },
  {
   "cell_type": "code",
   "execution_count": 31,
   "metadata": {},
   "outputs": [
    {
     "data": {
      "text/plain": [
       "Text(0, 0.5, 'RMSE')"
      ]
     },
     "execution_count": 31,
     "metadata": {},
     "output_type": "execute_result"
    },
    {
     "data": {
      "image/png": "[encoded data removed]",
      "text/plain": [
       "<Figure size 432x288 with 1 Axes>"
      ]
     },
     "metadata": {
      "needs_background": "light"
     },
     "output_type": "display_data"
    }
   ],
   "source": [
    "k_range = range(1, 31)\n",
    "plt.plot(k_range, model.cv_results_['mean_test_score'])\n",
    "plt.xlabel('Value of K for KNN')\n",
    "plt.ylabel('RMSE')"
   ]
  },
  {
   "cell_type": "markdown",
   "metadata": {},
   "source": [
    "# Fonctions préprocessing "
   ]
  },
  {
   "cell_type": "code",
   "execution_count": 32,
   "metadata": {},
   "outputs": [
    {
     "data": {
      "text/plain": [
       "Index(['fiber_100g', 'proteins_100g', 'energy_100g', 'saturated-fat_100g',\n",
       "       'sugars_100g', 'salt_100g', 'carbohydrates_100g', 'fat_100g',\n",
       "       'mean_tree', 'code', 'product_name', 'nutrition-score-fr_100g',\n",
       "       'nutriscore_grade', 'verif'],\n",
       "      dtype='object')"
      ]
     },
     "execution_count": 32,
     "metadata": {},
     "output_type": "execute_result"
    }
   ],
   "source": [
    "train.columns"
   ]
  },
  {
   "cell_type": "code",
   "execution_count": 33,
   "metadata": {},
   "outputs": [
    {
     "data": {
      "text/html": [
       "<div>\n",
       "<style scoped>\n",
       "    .dataframe tbody tr th:only-of-type {\n",
       "        vertical-align: middle;\n",
       "    }\n",
       "\n",
       "    .dataframe tbody tr th {\n",
       "        vertical-align: top;\n",
       "    }\n",
       "\n",
       "    .dataframe thead th {\n",
       "        text-align: right;\n",
       "    }\n",
       "</style>\n",
       "<table border=\"1\" class=\"dataframe\">\n",
       "  <thead>\n",
       "    <tr style=\"text-align: right;\">\n",
       "      <th></th>\n",
       "      <th>Name</th>\n",
       "      <th>Q1</th>\n",
       "      <th>Q3</th>\n",
       "    </tr>\n",
       "  </thead>\n",
       "  <tbody>\n",
       "    <tr>\n",
       "      <th>0</th>\n",
       "      <td>fiber_100g</td>\n",
       "      <td>-5.550</td>\n",
       "      <td>9.250</td>\n",
       "    </tr>\n",
       "    <tr>\n",
       "      <th>1</th>\n",
       "      <td>proteins_100g</td>\n",
       "      <td>-13.500</td>\n",
       "      <td>27.300</td>\n",
       "    </tr>\n",
       "    <tr>\n",
       "      <th>2</th>\n",
       "      <td>fruits-vegetables-nuts_100g</td>\n",
       "      <td>-81.775</td>\n",
       "      <td>161.625</td>\n",
       "    </tr>\n",
       "    <tr>\n",
       "      <th>3</th>\n",
       "      <td>saturated-fat_100g</td>\n",
       "      <td>-11.800</td>\n",
       "      <td>20.200</td>\n",
       "    </tr>\n",
       "    <tr>\n",
       "      <th>4</th>\n",
       "      <td>sugars_100g</td>\n",
       "      <td>-21.950</td>\n",
       "      <td>38.450</td>\n",
       "    </tr>\n",
       "  </tbody>\n",
       "</table>\n",
       "</div>"
      ],
      "text/plain": [
       "                          Name      Q1       Q3\n",
       "0                   fiber_100g  -5.550    9.250\n",
       "1                proteins_100g -13.500   27.300\n",
       "2  fruits-vegetables-nuts_100g -81.775  161.625\n",
       "3           saturated-fat_100g -11.800   20.200\n",
       "4                  sugars_100g -21.950   38.450"
      ]
     },
     "execution_count": 33,
     "metadata": {},
     "output_type": "execute_result"
    }
   ],
   "source": [
    "outliers.head()"
   ]
  },
  {
   "cell_type": "code",
   "execution_count": 34,
   "metadata": {},
   "outputs": [
    {
     "data": {
      "text/plain": [
       "array(['fiber_100g', 'proteins_100g', 'fruits-vegetables-nuts_100g',\n",
       "       'saturated-fat_100g', 'sugars_100g', 'salt_100g',\n",
       "       'carbohydrates_100g', 'fat_100g', 'energy_100g', 'mean_tree'],\n",
       "      dtype=object)"
      ]
     },
     "execution_count": 34,
     "metadata": {},
     "output_type": "execute_result"
    }
   ],
   "source": [
    "outliers['Name'].unique()"
   ]
  },
  {
   "cell_type": "markdown",
   "metadata": {},
   "source": [
    "- La fonction boxplot_methode va dans un premier gérer les valeurs aberrantes en mettant à Nan les valeurs supérieur à 100 et inférieur à 0\n",
    "- Puis nous récupérons la valeur de l'IRQ dans nos jeux de données outlier pour l'appliquer à notre jeu de données 'test' pour chaque colonne"
   ]
  },
  {
   "cell_type": "code",
   "execution_count": 35,
   "metadata": {},
   "outputs": [],
   "source": [
    "def boxplot_methode(main_df,df_outliers):\n",
    "    '''boxplot_methode has to goal to put all the outliers to Nan through the boxplot method, we are going to use the Q1 and Q3 from train dataset'''\n",
    "    global test,outliers\n",
    "    boxo=['fiber_100g','proteins_100g','fruits-vegetables-nuts_100g','saturated-fat_100g','sugars_100g','salt_100g','carbohydrates_100g','fat_100g']\n",
    "    for i in boxo: \n",
    "        test.loc[(test[i]<0)|(test[i]>100),\n",
    "                  i]=test.loc[(test[i]<0)|(test[i]>100),i]=np.nan\n",
    "        Q1 = int(outliers.loc[outliers['Name']==i,'Q1'])\n",
    "        Q3 = int(outliers.loc[outliers['Name']==i,'Q3'])\n",
    "        test.loc[(test[i] < (Q1)) | (test[i] > (Q3)),\n",
    "                  i]=test.loc[(test[i] < (Q1)) | (test[i] > (Q3)),\n",
    "                                 i]=np.nan"
   ]
  },
  {
   "cell_type": "code",
   "execution_count": 36,
   "metadata": {},
   "outputs": [],
   "source": [
    "boxplot_methode(test,outliers)"
   ]
  },
  {
   "cell_type": "code",
   "execution_count": 37,
   "metadata": {},
   "outputs": [
    {
     "data": {
      "text/plain": [
       "code                                0\n",
       "product_name                      584\n",
       "generic_name                    78544\n",
       "quantity                        42473\n",
       "fiber_100g                      61760\n",
       "proteins_100g                    2996\n",
       "fruits-vegetables-nuts_100g    100077\n",
       "energy_100g                       141\n",
       "saturated-fat_100g               6063\n",
       "sugars_100g                     11456\n",
       "salt_100g                        5467\n",
       "nutrition-score-fr_100g             0\n",
       "carbohydrates_100g                255\n",
       "fat_100g                         3822\n",
       "nutriscore_grade                    0\n",
       "dtype: int64"
      ]
     },
     "execution_count": 37,
     "metadata": {},
     "output_type": "execute_result"
    }
   ],
   "source": [
    "#Ici nous pouvons constater que le nombre de Nan a augmenté puisque toutes les valeurs aberrantes et outliers st mis à Nan\n",
    "test.isna().sum()"
   ]
  },
  {
   "cell_type": "code",
   "execution_count": 38,
   "metadata": {},
   "outputs": [],
   "source": [
    "def percent_methode(test_df,df_outliers): \n",
    "        '''percent_methdode has to goal to put all the outliers to Nan through the boxplot method, we are going to use the Q1 and Q3 from train dataset\n",
    "        , wich represent the 1st percentile and the 99th percentile'''\n",
    "        global test,outliers\n",
    "        colo=['energy_100g']\n",
    "        for i in colo: \n",
    "            Q1 = int(outliers.loc[outliers['Name']==i,'Q1'])\n",
    "            Q3 = int(outliers.loc[outliers['Name']==i,'Q3'])\n",
    "            test.loc[(test[i] <= (Q1)) | (test[i] >= (Q3)),\n",
    "                  i]=test.loc[(test[i] <= (Q1)) | (test[i] >= (Q3)),\n",
    "                                 i]=np.nan"
   ]
  },
  {
   "cell_type": "code",
   "execution_count": 39,
   "metadata": {},
   "outputs": [],
   "source": [
    "percent_methode(test,outliers)"
   ]
  },
  {
   "cell_type": "code",
   "execution_count": 40,
   "metadata": {},
   "outputs": [
    {
     "data": {
      "text/plain": [
       "code                                0\n",
       "product_name                      584\n",
       "generic_name                    78544\n",
       "quantity                        42473\n",
       "fiber_100g                      61760\n",
       "proteins_100g                    2996\n",
       "fruits-vegetables-nuts_100g    100077\n",
       "energy_100g                      2220\n",
       "saturated-fat_100g               6063\n",
       "sugars_100g                     11456\n",
       "salt_100g                        5467\n",
       "nutrition-score-fr_100g             0\n",
       "carbohydrates_100g                255\n",
       "fat_100g                         3822\n",
       "nutriscore_grade                    0\n",
       "dtype: int64"
      ]
     },
     "execution_count": 40,
     "metadata": {},
     "output_type": "execute_result"
    }
   ],
   "source": [
    "test.isna().sum()"
   ]
  },
  {
   "cell_type": "code",
   "execution_count": 41,
   "metadata": {},
   "outputs": [
    {
     "name": "stdout",
     "output_type": "stream",
     "text": [
      "CPU times: user 0 ns, sys: 0 ns, total: 0 ns\n",
      "Wall time: 7.63 µs\n"
     ]
    }
   ],
   "source": [
    "%%time\n",
    "def knn_imputation(dataframe):\n",
    "    '''knn_imputation is going to impute the missing values through KnnImputer that will be stocked into df_filled'''\n",
    "    global df_filled\n",
    "    knn=['fiber_100g','proteins_100g',\n",
    "                'energy_100g','saturated-fat_100g','sugars_100g','salt_100g','carbohydrates_100g','fat_100g']\n",
    "    with open('StandardScaler_pickle', 'rb') as file: \n",
    "        scaler=pickle.load(file)\n",
    "    data=(scaler.transform(dataframe[knn]))\n",
    "    with open('imputer_pickle', 'rb') as file: \n",
    "        imputer=pickle.load(file)\n",
    "    df_filled = imputer.transform(data)\n",
    "    "
   ]
  },
  {
   "cell_type": "code",
   "execution_count": 42,
   "metadata": {},
   "outputs": [
    {
     "name": "stdout",
     "output_type": "stream",
     "text": [
      "CPU times: user 27min 47s, sys: 13min 58s, total: 41min 45s\n",
      "Wall time: 19min 58s\n"
     ]
    }
   ],
   "source": [
    "%%time\n",
    "knn_imputation(test)"
   ]
  },
  {
   "cell_type": "code",
   "execution_count": 43,
   "metadata": {},
   "outputs": [],
   "source": [
    "X=df_filled.copy()\n",
    "tree = KDTree(X, leaf_size=2)              \n",
    "dist, ind = tree.query(X, k=5)\n",
    "dist_mean=[]\n",
    "for i in dist:\n",
    "     dist_mean.append(i.mean())\n",
    "data=(scaler.inverse_transform(df_filled))\n"
   ]
  },
  {
   "cell_type": "code",
   "execution_count": 44,
   "metadata": {},
   "outputs": [],
   "source": [
    "#Creation of the new dataframe : \"dataframe\"\n",
    "dataframe=pd.DataFrame(data, columns=['fiber_100g','proteins_100g',\n",
    "                'energy_100g','saturated-fat_100g','sugars_100g','salt_100g','carbohydrates_100g','fat_100g'])\n",
    "dataframe['mean_tree']=dist_mean\n",
    "\n"
   ]
  },
  {
   "cell_type": "code",
   "execution_count": 45,
   "metadata": {},
   "outputs": [
    {
     "name": "stdout",
     "output_type": "stream",
     "text": [
      "dataframe (101579, 9)\n",
      "test (101579, 15)\n"
     ]
    }
   ],
   "source": [
    "print(\"dataframe\",dataframe.shape)\n",
    "print(\"test\",test.shape)"
   ]
  },
  {
   "cell_type": "code",
   "execution_count": 46,
   "metadata": {},
   "outputs": [],
   "source": [
    "#Since we have kept the same order of information, we can simply put the test values into dataframe.\n",
    "#To retrieve the code, product_name and nutrition score \n",
    "dataframe['code']=test['code'].values\n",
    "dataframe['product_name']=test['product_name'].values\n",
    "dataframe['nutrition-score-fr_100g']=test['nutrition-score-fr_100g'].values"
   ]
  },
  {
   "cell_type": "code",
   "execution_count": 47,
   "metadata": {},
   "outputs": [
    {
     "data": {
      "text/plain": [
       "True"
      ]
     },
     "execution_count": 47,
     "metadata": {},
     "output_type": "execute_result"
    }
   ],
   "source": [
    "#The result True is perfectly normal\n",
    "dataframe['code'].equals(test['code'])"
   ]
  },
  {
   "cell_type": "code",
   "execution_count": 48,
   "metadata": {},
   "outputs": [],
   "source": [
    "#Now it seems that we took care of some redundants articles with their code but there are others with different names\n",
    "#Since we are using knn and its an algorithm using the distance we need to drop those products\n",
    "#For this, since I don't know who is who ? We are going to use those columns as a reference and keep only one of them each time\n",
    "dataframe.drop_duplicates(subset =['fiber_100g','proteins_100g',\n",
    "                'energy_100g','saturated-fat_100g','sugars_100g','salt_100g','carbohydrates_100g','fat_100g'], \n",
    "                     keep = \"first\", inplace = True) "
   ]
  },
  {
   "cell_type": "code",
   "execution_count": 49,
   "metadata": {},
   "outputs": [
    {
     "data": {
      "text/plain": [
       "False"
      ]
     },
     "execution_count": 49,
     "metadata": {},
     "output_type": "execute_result"
    }
   ],
   "source": [
    "#The result False is perfectly normal, we wanted to check if the drop did his job\n",
    "dataframe['code'].equals(test['code'])"
   ]
  },
  {
   "cell_type": "code",
   "execution_count": 50,
   "metadata": {},
   "outputs": [
    {
     "name": "stdout",
     "output_type": "stream",
     "text": [
      "dataframe (88168, 12)\n"
     ]
    }
   ],
   "source": [
    "print(\"dataframe\",dataframe.shape)"
   ]
  },
  {
   "cell_type": "code",
   "execution_count": 51,
   "metadata": {},
   "outputs": [],
   "source": [
    "test_clean=dataframe.copy()"
   ]
  },
  {
   "cell_type": "code",
   "execution_count": 52,
   "metadata": {},
   "outputs": [],
   "source": [
    "test_clean['verif']=test_clean['proteins_100g']+test_clean['carbohydrates_100g']+test_clean['fat_100g']"
   ]
  },
  {
   "cell_type": "code",
   "execution_count": 53,
   "metadata": {},
   "outputs": [
    {
     "data": {
      "text/plain": [
       "fiber_100g                   0\n",
       "proteins_100g                0\n",
       "energy_100g                  0\n",
       "saturated-fat_100g           0\n",
       "sugars_100g                  0\n",
       "salt_100g                    0\n",
       "carbohydrates_100g           0\n",
       "fat_100g                     0\n",
       "mean_tree                    0\n",
       "code                         0\n",
       "product_name               548\n",
       "nutrition-score-fr_100g      0\n",
       "verif                        0\n",
       "dtype: int64"
      ]
     },
     "execution_count": 53,
     "metadata": {},
     "output_type": "execute_result"
    }
   ],
   "source": [
    "test_clean.isna().sum()"
   ]
  },
  {
   "cell_type": "code",
   "execution_count": 54,
   "metadata": {},
   "outputs": [],
   "source": [
    "def verification(main_test): \n",
    "    global test_clean\n",
    "    test_clean=test_clean.loc[(test_clean['verif']>=0)&(test_clean['verif']<=100),:]\n",
    "    outlier_kd=['mean_tree']\n",
    "    for i in outlier_kd: \n",
    "        test_clean=test_clean.loc[(test_clean[i]>=0)|(test_clean[i]<=100),:]\n",
    "        Q1 = int(outliers.loc[outliers['Name']==i,'Q1'])\n",
    "        Q3 = int(outliers.loc[outliers['Name']==i,'Q3'])\n",
    "        test_clean=test_clean.loc[(test_clean[i] < (Q1)) | (test_clean[i] > (Q3 )),\n",
    "                                 :]"
   ]
  },
  {
   "cell_type": "code",
   "execution_count": 55,
   "metadata": {},
   "outputs": [],
   "source": [
    "verification(test_clean)"
   ]
  },
  {
   "cell_type": "code",
   "execution_count": 56,
   "metadata": {},
   "outputs": [],
   "source": [
    "liste_knn=['fiber_100g','proteins_100g',\n",
    "                'energy_100g','saturated-fat_100g','sugars_100g','salt_100g','carbohydrates_100g','fat_100g']"
   ]
  },
  {
   "cell_type": "code",
   "execution_count": 57,
   "metadata": {},
   "outputs": [],
   "source": [
    "y_pred1=model.best_estimator_.predict(test_clean[liste_knn])"
   ]
  },
  {
   "cell_type": "code",
   "execution_count": 58,
   "metadata": {},
   "outputs": [],
   "source": [
    "y_test1=test_clean['nutrition-score-fr_100g']"
   ]
  },
  {
   "cell_type": "code",
   "execution_count": 59,
   "metadata": {},
   "outputs": [
    {
     "name": "stdout",
     "output_type": "stream",
     "text": [
      "Test SET( without % nutrition-score-fr_100g)\n",
      "=========================================\n",
      "MAE:                 11.136399632732699\n",
      "RMSE:                13.349612899396245\n"
     ]
    }
   ],
   "source": [
    "mae1 = metrics.mean_absolute_error(y_test1, y_pred1)\n",
    "mse1 = metrics.mean_squared_error(y_test1,y_pred1)\n",
    "print (\"Test SET( without % nutrition-score-fr_100g)\")\n",
    "print (\"=========================================\")\n",
    "print (\"MAE:                \", mae1)\n",
    "print (\"RMSE:               \", math.sqrt(mse1))"
   ]
  },
  {
   "cell_type": "code",
   "execution_count": 60,
   "metadata": {},
   "outputs": [
    {
     "name": "stdout",
     "output_type": "stream",
     "text": [
      "--- 2197.51411652565 seconds ---\n"
     ]
    }
   ],
   "source": [
    "print(\"--- %s seconds ---\" % (time.time() - start_time))"
   ]
  },
  {
   "cell_type": "code",
   "execution_count": null,
   "metadata": {},
   "outputs": [],
   "source": []
  }
 ],
 "metadata": {
  "kernelspec": {
   "display_name": "Python 3",
   "language": "python",
   "name": "python3"
  },
  "language_info": {
   "codemirror_mode": {
    "name": "ipython",
    "version": 3
   },
   "file_extension": ".py",
   "mimetype": "text/x-python",
   "name": "python",
   "nbconvert_exporter": "python",
   "pygments_lexer": "ipython3",
   "version": "3.5.2"
  }
 },
 "nbformat": 4,
 "nbformat_minor": 2
}
